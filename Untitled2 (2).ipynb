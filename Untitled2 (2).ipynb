{
  "nbformat": 4,
  "nbformat_minor": 0,
  "metadata": {
    "colab": {
      "provenance": []
    },
    "kernelspec": {
      "name": "python3",
      "display_name": "Python 3"
    },
    "language_info": {
      "name": "python"
    }
  },
  "cells": [
    {
      "cell_type": "code",
      "source": [
        "# Import Library\n",
        "import pandas as pd\n",
        "import numpy as np\n",
        "import matplotlib.pyplot as plt"
      ],
      "metadata": {
        "id": "rRhdpXDV_1gv"
      },
      "execution_count": 1,
      "outputs": []
    },
    {
      "cell_type": "code",
      "source": [
        "#Import Data-\n",
        "from sklearn.datasets import load_digits\n",
        "df = load_digits()"
      ],
      "metadata": {
        "id": "i8KBGJvC_1jd"
      },
      "execution_count": 2,
      "outputs": []
    },
    {
      "cell_type": "code",
      "source": [
        "_, axes = plt.subplots(nrows=1,ncols=4,figsize=(10,3))\n",
        "for ax,image,label in zip(axes,df.images,df.target):\n",
        "\n",
        "  ax.set_axis_off()\n",
        "  ax.imshow(image,cmap=plt.cm.gray_r,interpolation='nearest')\n",
        "  ax.set_title('Training %i'%label)"
      ],
      "metadata": {
        "colab": {
          "base_uri": "https://localhost:8080/",
          "height": 227
        },
        "id": "DVaUUMel_1lq",
        "outputId": "01cfb814-64f7-4061-cbc5-019aa277f28a"
      },
      "execution_count": 20,
      "outputs": [
        {
          "output_type": "display_data",
          "data": {
            "text/plain": [
              "<Figure size 1000x300 with 4 Axes>"
            ],
            "image/png": "[encoded data removed]"
          },
          "metadata": {}
        }
      ]
    },
    {
      "cell_type": "code",
      "source": [
        "# Data preprocessing\n",
        "df.images.shape"
      ],
      "metadata": {
        "colab": {
          "base_uri": "https://localhost:8080/"
        },
        "id": "PwiVaXATE4ca",
        "outputId": "1134b18e-343b-44bf-aa9c-f76f8939b996"
      },
      "execution_count": 21,
      "outputs": [
        {
          "output_type": "execute_result",
          "data": {
            "text/plain": [
              "(1797, 8, 8)"
            ]
          },
          "metadata": {},
          "execution_count": 21
        }
      ]
    },
    {
      "cell_type": "code",
      "source": [
        "df.images[0]"
      ],
      "metadata": {
        "colab": {
          "base_uri": "https://localhost:8080/"
        },
        "id": "CLje-vCxE4fz",
        "outputId": "2b05be14-9a8a-4e30-c92d-bee9d69afbb0"
      },
      "execution_count": 23,
      "outputs": [
        {
          "output_type": "execute_result",
          "data": {
            "text/plain": [
              "array([[ 0.,  0.,  5., 13.,  9.,  1.,  0.,  0.],\n",
              "       [ 0.,  0., 13., 15., 10., 15.,  5.,  0.],\n",
              "       [ 0.,  3., 15.,  2.,  0., 11.,  8.,  0.],\n",
              "       [ 0.,  4., 12.,  0.,  0.,  8.,  8.,  0.],\n",
              "       [ 0.,  5.,  8.,  0.,  0.,  9.,  8.,  0.],\n",
              "       [ 0.,  4., 11.,  0.,  1., 12.,  7.,  0.],\n",
              "       [ 0.,  2., 14.,  5., 10., 12.,  0.,  0.],\n",
              "       [ 0.,  0.,  6., 13., 10.,  0.,  0.,  0.]])"
            ]
          },
          "metadata": {},
          "execution_count": 23
        }
      ]
    },
    {
      "cell_type": "code",
      "source": [
        "df.images[0].shape"
      ],
      "metadata": {
        "colab": {
          "base_uri": "https://localhost:8080/"
        },
        "id": "SpmHmqJNFFXQ",
        "outputId": "d18a0fbb-f965-447b-9eb5-01524e507b3e"
      },
      "execution_count": 24,
      "outputs": [
        {
          "output_type": "execute_result",
          "data": {
            "text/plain": [
              "(8, 8)"
            ]
          },
          "metadata": {},
          "execution_count": 24
        }
      ]
    },
    {
      "cell_type": "code",
      "source": [
        "len(df.images)"
      ],
      "metadata": {
        "colab": {
          "base_uri": "https://localhost:8080/"
        },
        "id": "c7mvMN8QFFaa",
        "outputId": "9d987bfc-eb87-47cb-a221-0d002e3cae9c"
      },
      "execution_count": 25,
      "outputs": [
        {
          "output_type": "execute_result",
          "data": {
            "text/plain": [
              "1797"
            ]
          },
          "metadata": {},
          "execution_count": 25
        }
      ]
    },
    {
      "cell_type": "code",
      "source": [
        "n_samples = len(df.images)"
      ],
      "metadata": {
        "id": "ftvMAfCrFFdj"
      },
      "execution_count": 26,
      "outputs": []
    },
    {
      "cell_type": "code",
      "source": [
        "data = df.images.reshape((n_samples,-1))"
      ],
      "metadata": {
        "id": "8RhyFgMMFadg"
      },
      "execution_count": 28,
      "outputs": []
    },
    {
      "cell_type": "code",
      "source": [
        "data[0]"
      ],
      "metadata": {
        "colab": {
          "base_uri": "https://localhost:8080/"
        },
        "id": "oE8mzZn7FagD",
        "outputId": "00cc0032-d084-4d27-f07f-2ac17436359c"
      },
      "execution_count": 29,
      "outputs": [
        {
          "output_type": "execute_result",
          "data": {
            "text/plain": [
              "array([ 0.,  0.,  5., 13.,  9.,  1.,  0.,  0.,  0.,  0., 13., 15., 10.,\n",
              "       15.,  5.,  0.,  0.,  3., 15.,  2.,  0., 11.,  8.,  0.,  0.,  4.,\n",
              "       12.,  0.,  0.,  8.,  8.,  0.,  0.,  5.,  8.,  0.,  0.,  9.,  8.,\n",
              "        0.,  0.,  4., 11.,  0.,  1., 12.,  7.,  0.,  0.,  2., 14.,  5.,\n",
              "       10., 12.,  0.,  0.,  0.,  0.,  6., 13., 10.,  0.,  0.,  0.])"
            ]
          },
          "metadata": {},
          "execution_count": 29
        }
      ]
    },
    {
      "cell_type": "code",
      "source": [
        "data[0].shape"
      ],
      "metadata": {
        "colab": {
          "base_uri": "https://localhost:8080/"
        },
        "id": "53FaK2u7FajV",
        "outputId": "b6a06114-dc69-4b13-8a69-0641c61d0134"
      },
      "execution_count": 30,
      "outputs": [
        {
          "output_type": "execute_result",
          "data": {
            "text/plain": [
              "(64,)"
            ]
          },
          "metadata": {},
          "execution_count": 30
        }
      ]
    },
    {
      "cell_type": "code",
      "source": [
        "data.shape"
      ],
      "metadata": {
        "colab": {
          "base_uri": "https://localhost:8080/"
        },
        "id": "n6FRtSlXFyks",
        "outputId": "25a3295c-a57f-4a98-93a7-e86d6440da01"
      },
      "execution_count": 31,
      "outputs": [
        {
          "output_type": "execute_result",
          "data": {
            "text/plain": [
              "(1797, 64)"
            ]
          },
          "metadata": {},
          "execution_count": 31
        }
      ]
    },
    {
      "cell_type": "code",
      "source": [
        "# Scaling Image Data\n",
        "data.min()"
      ],
      "metadata": {
        "colab": {
          "base_uri": "https://localhost:8080/"
        },
        "id": "G_VDVAluF28v",
        "outputId": "0c890397-5d50-4413-feeb-1c8df38c347b"
      },
      "execution_count": 32,
      "outputs": [
        {
          "output_type": "execute_result",
          "data": {
            "text/plain": [
              "0.0"
            ]
          },
          "metadata": {},
          "execution_count": 32
        }
      ]
    },
    {
      "cell_type": "code",
      "source": [
        "data.max()"
      ],
      "metadata": {
        "colab": {
          "base_uri": "https://localhost:8080/"
        },
        "id": "SmLTbcO-F2_B",
        "outputId": "2e64f3fe-2855-4bbe-91d1-08043c54b51a"
      },
      "execution_count": 33,
      "outputs": [
        {
          "output_type": "execute_result",
          "data": {
            "text/plain": [
              "16.0"
            ]
          },
          "metadata": {},
          "execution_count": 33
        }
      ]
    },
    {
      "cell_type": "code",
      "source": [
        "data=data/16"
      ],
      "metadata": {
        "id": "hXrFPxEkF3C4"
      },
      "execution_count": 34,
      "outputs": []
    },
    {
      "cell_type": "code",
      "source": [
        "data.min()"
      ],
      "metadata": {
        "colab": {
          "base_uri": "https://localhost:8080/"
        },
        "id": "12EIed-fGI66",
        "outputId": "a87c2ae1-0ae5-4619-8464-9b1cf89098d4"
      },
      "execution_count": 35,
      "outputs": [
        {
          "output_type": "execute_result",
          "data": {
            "text/plain": [
              "0.0"
            ]
          },
          "metadata": {},
          "execution_count": 35
        }
      ]
    },
    {
      "cell_type": "code",
      "source": [
        "data.max()"
      ],
      "metadata": {
        "colab": {
          "base_uri": "https://localhost:8080/"
        },
        "id": "tHlKnNYgGI9x",
        "outputId": "e58d9f8d-d6ab-4349-fbfc-879a5b16a4b4"
      },
      "execution_count": 36,
      "outputs": [
        {
          "output_type": "execute_result",
          "data": {
            "text/plain": [
              "1.0"
            ]
          },
          "metadata": {},
          "execution_count": 36
        }
      ]
    },
    {
      "cell_type": "code",
      "source": [
        "data[0]"
      ],
      "metadata": {
        "colab": {
          "base_uri": "https://localhost:8080/"
        },
        "id": "rnw04wbgGJBB",
        "outputId": "b4f0a536-6725-4f91-998a-facee4c4a3d5"
      },
      "execution_count": 37,
      "outputs": [
        {
          "output_type": "execute_result",
          "data": {
            "text/plain": [
              "array([0.    , 0.    , 0.3125, 0.8125, 0.5625, 0.0625, 0.    , 0.    ,\n",
              "       0.    , 0.    , 0.8125, 0.9375, 0.625 , 0.9375, 0.3125, 0.    ,\n",
              "       0.    , 0.1875, 0.9375, 0.125 , 0.    , 0.6875, 0.5   , 0.    ,\n",
              "       0.    , 0.25  , 0.75  , 0.    , 0.    , 0.5   , 0.5   , 0.    ,\n",
              "       0.    , 0.3125, 0.5   , 0.    , 0.    , 0.5625, 0.5   , 0.    ,\n",
              "       0.    , 0.25  , 0.6875, 0.    , 0.0625, 0.75  , 0.4375, 0.    ,\n",
              "       0.    , 0.125 , 0.875 , 0.3125, 0.625 , 0.75  , 0.    , 0.    ,\n",
              "       0.    , 0.    , 0.375 , 0.8125, 0.625 , 0.    , 0.    , 0.    ])"
            ]
          },
          "metadata": {},
          "execution_count": 37
        }
      ]
    },
    {
      "cell_type": "code",
      "source": [
        "# Train test split\n",
        "from sklearn.model_selection import train_test_split\n",
        "x_train,x_test,y_train,y_test = train_test_split(data,df.target,test_size=0.3)"
      ],
      "metadata": {
        "id": "OZya3JpWGRKn"
      },
      "execution_count": 39,
      "outputs": []
    },
    {
      "cell_type": "code",
      "source": [
        "x_train.shape,x_test.shape,y_train.shape,y_test.shape"
      ],
      "metadata": {
        "colab": {
          "base_uri": "https://localhost:8080/"
        },
        "id": "1EfIB3liGujv",
        "outputId": "798aef1d-e469-4c6e-fa47-b61ca77fd189"
      },
      "execution_count": 40,
      "outputs": [
        {
          "output_type": "execute_result",
          "data": {
            "text/plain": [
              "((1257, 64), (540, 64), (1257,), (540,))"
            ]
          },
          "metadata": {},
          "execution_count": 40
        }
      ]
    },
    {
      "cell_type": "code",
      "source": [
        "# Random forest model\n",
        "from sklearn.ensemble import RandomForestClassifier\n",
        "rf = RandomForestClassifier()\n",
        "rf.fit(x_train,y_train)\n"
      ],
      "metadata": {
        "colab": {
          "base_uri": "https://localhost:8080/",
          "height": 74
        },
        "id": "ld4QHX6bGunE",
        "outputId": "3ed0d9e1-e990-4eaf-dff8-a6f6c71a3306"
      },
      "execution_count": 41,
      "outputs": [
        {
          "output_type": "execute_result",
          "data": {
            "text/plain": [
              "RandomForestClassifier()"
            ],
            "text/html": [
              "<style>#sk-container-id-1 {color: black;background-color: white;}#sk-container-id-1 pre{padding: 0;}#sk-container-id-1 div.sk-toggleable {background-color: white;}#sk-container-id-1 label.sk-toggleable__label {cursor: pointer;display: block;width: 100%;margin-bottom: 0;padding: 0.3em;box-sizing: border-box;text-align: center;}#sk-container-id-1 label.sk-toggleable__label-arrow:before {content: \"▸\";float: left;margin-right: 0.25em;color: #696969;}#sk-container-id-1 label.sk-toggleable__label-arrow:hover:before {color: black;}#sk-container-id-1 div.sk-estimator:hover label.sk-toggleable__label-arrow:before {color: black;}#sk-container-id-1 div.sk-toggleable__content {max-height: 0;max-width: 0;overflow: hidden;text-align: left;background-color: #f0f8ff;}#sk-container-id-1 div.sk-toggleable__content pre {margin: 0.2em;color: black;border-radius: 0.25em;background-color: #f0f8ff;}#sk-container-id-1 input.sk-toggleable__control:checked~div.sk-toggleable__content {max-height: 200px;max-width: 100%;overflow: auto;}#sk-container-id-1 input.sk-toggleable__control:checked~label.sk-toggleable__label-arrow:before {content: \"▾\";}#sk-container-id-1 div.sk-estimator input.sk-toggleable__control:checked~label.sk-toggleable__label {background-color: #d4ebff;}#sk-container-id-1 div.sk-label input.sk-toggleable__control:checked~label.sk-toggleable__label {background-color: #d4ebff;}#sk-container-id-1 input.sk-hidden--visually {border: 0;clip: rect(1px 1px 1px 1px);clip: rect(1px, 1px, 1px, 1px);height: 1px;margin: -1px;overflow: hidden;padding: 0;position: absolute;width: 1px;}#sk-container-id-1 div.sk-estimator {font-family: monospace;background-color: #f0f8ff;border: 1px dotted black;border-radius: 0.25em;box-sizing: border-box;margin-bottom: 0.5em;}#sk-container-id-1 div.sk-estimator:hover {background-color: #d4ebff;}#sk-container-id-1 div.sk-parallel-item::after {content: \"\";width: 100%;border-bottom: 1px solid gray;flex-grow: 1;}#sk-container-id-1 div.sk-label:hover label.sk-toggleable__label {background-color: #d4ebff;}#sk-container-id-1 div.sk-serial::before {content: \"\";position: absolute;border-left: 1px solid gray;box-sizing: border-box;top: 0;bottom: 0;left: 50%;z-index: 0;}#sk-container-id-1 div.sk-serial {display: flex;flex-direction: column;align-items: center;background-color: white;padding-right: 0.2em;padding-left: 0.2em;position: relative;}#sk-container-id-1 div.sk-item {position: relative;z-index: 1;}#sk-container-id-1 div.sk-parallel {display: flex;align-items: stretch;justify-content: center;background-color: white;position: relative;}#sk-container-id-1 div.sk-item::before, #sk-container-id-1 div.sk-parallel-item::before {content: \"\";position: absolute;border-left: 1px solid gray;box-sizing: border-box;top: 0;bottom: 0;left: 50%;z-index: -1;}#sk-container-id-1 div.sk-parallel-item {display: flex;flex-direction: column;z-index: 1;position: relative;background-color: white;}#sk-container-id-1 div.sk-parallel-item:first-child::after {align-self: flex-end;width: 50%;}#sk-container-id-1 div.sk-parallel-item:last-child::after {align-self: flex-start;width: 50%;}#sk-container-id-1 div.sk-parallel-item:only-child::after {width: 0;}#sk-container-id-1 div.sk-dashed-wrapped {border: 1px dashed gray;margin: 0 0.4em 0.5em 0.4em;box-sizing: border-box;padding-bottom: 0.4em;background-color: white;}#sk-container-id-1 div.sk-label label {font-family: monospace;font-weight: bold;display: inline-block;line-height: 1.2em;}#sk-container-id-1 div.sk-label-container {text-align: center;}#sk-container-id-1 div.sk-container {/* jupyter's `normalize.less` sets `[hidden] { display: none; }` but bootstrap.min.css set `[hidden] { display: none !important; }` so we also need the `!important` here to be able to override the default hidden behavior on the sphinx rendered scikit-learn.org. See: https://github.com/scikit-learn/scikit-learn/issues/21755 */display: inline-block !important;position: relative;}#sk-container-id-1 div.sk-text-repr-fallback {display: none;}</style><div id=\"sk-container-id-1\" class=\"sk-top-container\"><div class=\"sk-text-repr-fallback\"><pre>RandomForestClassifier()</pre><b>In a Jupyter environment, please rerun this cell to show the HTML representation or trust the notebook. <br />On GitHub, the HTML representation is unable to render, please try loading this page with nbviewer.org.</b></div><div class=\"sk-container\" hidden><div class=\"sk-item\"><div class=\"sk-estimator sk-toggleable\"><input class=\"sk-toggleable__control sk-hidden--visually\" id=\"sk-estimator-id-1\" type=\"checkbox\" checked><label for=\"sk-estimator-id-1\" class=\"sk-toggleable__label sk-toggleable__label-arrow\">RandomForestClassifier</label><div class=\"sk-toggleable__content\"><pre>RandomForestClassifier()</pre></div></div></div></div></div>"
            ]
          },
          "metadata": {},
          "execution_count": 41
        }
      ]
    },
    {
      "cell_type": "code",
      "source": [
        "#Predit test data\n",
        "y_pred = rf.predict(x_test)\n",
        "y_pred"
      ],
      "metadata": {
        "colab": {
          "base_uri": "https://localhost:8080/"
        },
        "id": "inGfdscBGRMu",
        "outputId": "7ff40923-85aa-4b78-d3d5-51022c56cee0"
      },
      "execution_count": 42,
      "outputs": [
        {
          "output_type": "execute_result",
          "data": {
            "text/plain": [
              "array([0, 6, 2, 2, 4, 7, 0, 2, 7, 3, 0, 0, 9, 9, 3, 5, 7, 1, 4, 0, 6, 2,\n",
              "       2, 7, 3, 4, 1, 6, 8, 1, 9, 4, 4, 5, 9, 0, 8, 7, 4, 5, 9, 2, 3, 4,\n",
              "       7, 8, 0, 3, 0, 0, 2, 8, 5, 4, 2, 2, 7, 4, 7, 7, 8, 1, 7, 4, 5, 7,\n",
              "       3, 7, 0, 5, 4, 1, 3, 1, 2, 1, 0, 2, 4, 9, 7, 8, 0, 6, 7, 1, 5, 8,\n",
              "       5, 3, 9, 0, 0, 0, 1, 6, 8, 2, 6, 4, 8, 8, 9, 6, 1, 9, 0, 7, 5, 7,\n",
              "       8, 7, 3, 1, 0, 5, 6, 4, 9, 6, 0, 7, 7, 2, 4, 6, 0, 7, 5, 5, 1, 1,\n",
              "       5, 7, 4, 7, 3, 7, 9, 0, 3, 3, 1, 2, 6, 9, 6, 9, 6, 6, 5, 5, 8, 2,\n",
              "       4, 4, 8, 8, 5, 7, 9, 5, 3, 5, 3, 8, 9, 9, 0, 4, 1, 7, 6, 4, 6, 4,\n",
              "       2, 4, 9, 9, 9, 3, 4, 3, 2, 3, 5, 1, 0, 1, 1, 2, 1, 6, 8, 0, 8, 0,\n",
              "       6, 9, 7, 5, 7, 7, 2, 6, 0, 5, 7, 4, 1, 0, 4, 0, 6, 0, 8, 6, 9, 7,\n",
              "       0, 5, 9, 6, 0, 8, 7, 9, 9, 6, 9, 4, 5, 5, 2, 1, 2, 2, 4, 3, 7, 1,\n",
              "       6, 0, 6, 6, 2, 0, 5, 1, 9, 5, 2, 4, 1, 9, 1, 2, 8, 1, 0, 9, 1, 4,\n",
              "       9, 8, 8, 0, 1, 4, 8, 5, 6, 8, 8, 6, 6, 9, 8, 2, 6, 7, 2, 4, 7, 7,\n",
              "       9, 3, 0, 7, 1, 7, 9, 9, 7, 8, 5, 2, 1, 9, 0, 4, 9, 6, 4, 1, 3, 0,\n",
              "       4, 0, 1, 1, 5, 3, 1, 2, 7, 3, 5, 3, 7, 2, 9, 4, 9, 1, 8, 3, 7, 4,\n",
              "       4, 2, 8, 3, 5, 7, 0, 4, 8, 1, 9, 5, 9, 1, 7, 5, 2, 1, 5, 8, 5, 9,\n",
              "       7, 6, 4, 8, 6, 1, 5, 7, 8, 5, 4, 3, 6, 6, 7, 3, 2, 8, 1, 3, 0, 1,\n",
              "       4, 0, 2, 7, 1, 5, 2, 3, 9, 8, 4, 0, 9, 4, 3, 9, 3, 0, 3, 1, 5, 2,\n",
              "       2, 7, 7, 5, 4, 3, 8, 5, 3, 0, 7, 1, 3, 9, 7, 3, 5, 5, 8, 5, 1, 1,\n",
              "       5, 1, 6, 2, 4, 8, 9, 1, 7, 8, 8, 1, 5, 2, 0, 0, 1, 6, 6, 0, 3, 7,\n",
              "       5, 1, 5, 8, 1, 9, 3, 3, 7, 5, 6, 3, 0, 0, 2, 0, 3, 9, 6, 4, 0, 4,\n",
              "       9, 2, 7, 4, 1, 9, 4, 9, 4, 8, 6, 0, 7, 4, 7, 6, 5, 5, 6, 9, 6, 2,\n",
              "       1, 6, 5, 1, 2, 1, 6, 4, 9, 5, 3, 5, 6, 5, 3, 7, 1, 4, 1, 8, 0, 1,\n",
              "       4, 0, 4, 3, 7, 4, 7, 6, 2, 4, 0, 6, 6, 0, 0, 7, 2, 0, 4, 3, 5, 5,\n",
              "       8, 6, 3, 6, 4, 8, 1, 1, 5, 5, 0, 3])"
            ]
          },
          "metadata": {},
          "execution_count": 42
        }
      ]
    },
    {
      "cell_type": "code",
      "source": [
        "#Model accurracy\n",
        "from sklearn.metrics import confusion_matrix,classification_report\n"
      ],
      "metadata": {
        "id": "CuX2q5zeGRP1"
      },
      "execution_count": 43,
      "outputs": []
    },
    {
      "cell_type": "code",
      "source": [
        "confusion_matrix(y_test,y_pred)"
      ],
      "metadata": {
        "colab": {
          "base_uri": "https://localhost:8080/"
        },
        "id": "9BHJambCHzXF",
        "outputId": "54a064cd-de7a-4536-dc73-bd067481170b"
      },
      "execution_count": 44,
      "outputs": [
        {
          "output_type": "execute_result",
          "data": {
            "text/plain": [
              "array([[58,  0,  0,  0,  2,  0,  0,  0,  0,  0],\n",
              "       [ 0, 60,  0,  0,  0,  0,  0,  0,  0,  0],\n",
              "       [ 0,  0, 45,  0,  0,  0,  0,  0,  0,  1],\n",
              "       [ 0,  0,  0, 46,  0,  1,  0,  0,  0,  1],\n",
              "       [ 0,  0,  0,  0, 56,  0,  0,  2,  1,  0],\n",
              "       [ 0,  0,  0,  0,  1, 57,  0,  0,  0,  1],\n",
              "       [ 1,  0,  0,  0,  0,  0, 52,  0,  0,  0],\n",
              "       [ 0,  0,  0,  0,  0,  0,  0, 59,  1,  0],\n",
              "       [ 0,  1,  0,  0,  0,  0,  0,  0, 43,  0],\n",
              "       [ 0,  0,  0,  1,  0,  1,  0,  0,  0, 49]])"
            ]
          },
          "metadata": {},
          "execution_count": 44
        }
      ]
    },
    {
      "cell_type": "code",
      "source": [
        "print(classification_report(y_test,y_pred))"
      ],
      "metadata": {
        "colab": {
          "base_uri": "https://localhost:8080/"
        },
        "id": "qP7h8nNsHzav",
        "outputId": "bfc5a9ff-886a-491a-dab5-f32d320fd191"
      },
      "execution_count": 45,
      "outputs": [
        {
          "output_type": "stream",
          "name": "stdout",
          "text": [
            "              precision    recall  f1-score   support\n",
            "\n",
            "           0       0.98      0.97      0.97        60\n",
            "           1       0.98      1.00      0.99        60\n",
            "           2       1.00      0.98      0.99        46\n",
            "           3       0.98      0.96      0.97        48\n",
            "           4       0.95      0.95      0.95        59\n",
            "           5       0.97      0.97      0.97        59\n",
            "           6       1.00      0.98      0.99        53\n",
            "           7       0.97      0.98      0.98        60\n",
            "           8       0.96      0.98      0.97        44\n",
            "           9       0.94      0.96      0.95        51\n",
            "\n",
            "    accuracy                           0.97       540\n",
            "   macro avg       0.97      0.97      0.97       540\n",
            "weighted avg       0.97      0.97      0.97       540\n",
            "\n"
          ]
        }
      ]
    }
  ]
}